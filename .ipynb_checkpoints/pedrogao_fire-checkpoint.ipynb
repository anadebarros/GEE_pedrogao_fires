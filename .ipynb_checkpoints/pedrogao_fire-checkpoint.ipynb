{
 "cells": [
  {
   "cell_type": "code",
   "execution_count": 16,
   "id": "8b4de59a-1d87-44c4-8095-6eb1645f0cf1",
   "metadata": {},
   "outputs": [],
   "source": [
    "import pandas as pd\n",
    "import geopandas as gpd\n",
    "import os\n",
    "import urllib.request\n",
    "\n",
    "\n",
    "# earth engine\n",
    "import ee\n",
    "\n",
    "# allow images to display in the notebook\n",
    "from IPython.display import Image"
   ]
  },
  {
   "cell_type": "markdown",
   "id": "f6d2eb15-6668-4851-ba52-c35d30ce01fb",
   "metadata": {},
   "source": [
    "Authenticate earth engine"
   ]
  },
  {
   "cell_type": "code",
   "execution_count": 2,
   "id": "d78d501e-4c44-499c-8d5d-56e3ed10a16b",
   "metadata": {},
   "outputs": [
    {
     "data": {
      "text/html": [
       "<p>To authorize access needed by Earth Engine, open the following\n",
       "        URL in a web browser and follow the instructions:</p>\n",
       "        <p><a href=https://code.earthengine.google.com/client-auth?scopes=https%3A//www.googleapis.com/auth/earthengine%20https%3A//www.googleapis.com/auth/cloud-platform%20https%3A//www.googleapis.com/auth/devstorage.full_control&request_id=yA4ouWDl24HCrKF96QqHQCh904094fU-r5GneCijQqw&tc=On-SgUUQovwCk9lWvLOVXsKU56ESaheU12zSwDs8PrA&cc=YEF15LYxKud0i8-fn6ddF8oK3dUsvyK5L6bIZj4sdME>https://code.earthengine.google.com/client-auth?scopes=https%3A//www.googleapis.com/auth/earthengine%20https%3A//www.googleapis.com/auth/cloud-platform%20https%3A//www.googleapis.com/auth/devstorage.full_control&request_id=yA4ouWDl24HCrKF96QqHQCh904094fU-r5GneCijQqw&tc=On-SgUUQovwCk9lWvLOVXsKU56ESaheU12zSwDs8PrA&cc=YEF15LYxKud0i8-fn6ddF8oK3dUsvyK5L6bIZj4sdME</a></p>\n",
       "        <p>The authorization workflow will generate a code, which you should paste in the box below.</p>\n",
       "        "
      ],
      "text/plain": [
       "<IPython.core.display.HTML object>"
      ]
     },
     "metadata": {},
     "output_type": "display_data"
    },
    {
     "name": "stdin",
     "output_type": "stream",
     "text": [
      "Enter verification code:  4/1AdLIrYf1ohOJHNS99itnuF1tKFnNOREK_uKFEnMMMe13UtqnXteSLqy_6rc\n"
     ]
    },
    {
     "name": "stdout",
     "output_type": "stream",
     "text": [
      "\n",
      "Successfully saved authorization token.\n"
     ]
    }
   ],
   "source": [
    "# Trigger the authentication flow.\n",
    "ee.Authenticate()\n",
    "\n",
    "# Initialize the library.\n",
    "ee.Initialize()"
   ]
  },
  {
   "cell_type": "markdown",
   "id": "09d1dd4c-b9b1-4272-8d67-65986d6a763f",
   "metadata": {},
   "source": [
    "Define filters"
   ]
  },
  {
   "cell_type": "code",
   "execution_count": 3,
   "id": "01f0fa45-872d-4030-b9ca-87ff23e951e4",
   "metadata": {},
   "outputs": [],
   "source": [
    "# coordinates of the Camp Fire\n",
    "lat = 39.91694\n",
    "lon =  -8.14778\n",
    "\n",
    "# point of interest as an ee.Geometry\n",
    "poi = ee.Geometry.Point(lon,lat)\n",
    "\n",
    "# start date of range to filter for\n",
    "start_date = '2017-01-10'\n",
    "\n",
    "# end date\n",
    "end_date = '2017-06-30'"
   ]
  },
  {
   "cell_type": "markdown",
   "id": "08cde6a6-c057-4327-892f-a154c0079d25",
   "metadata": {},
   "source": [
    "Get Landsat 7 data"
   ]
  },
  {
   "cell_type": "code",
   "execution_count": 4,
   "id": "05a3b15c-ff03-40d0-983f-532c7b1c7047",
   "metadata": {},
   "outputs": [],
   "source": [
    "# get the satellite data\n",
    "#set the point of interest and dates we want\n",
    "landsat = ee.ImageCollection(\"LANDSAT/LE07/C02/T1\")\\\n",
    "            .filterBounds(poi)\\\n",
    "            .filterDate(start_date,end_date)"
   ]
  },
  {
   "cell_type": "code",
   "execution_count": 5,
   "id": "ccd80487-dec1-4237-b2e7-100c22e2b123",
   "metadata": {},
   "outputs": [
    {
     "name": "stdout",
     "output_type": "stream",
     "text": [
      "Total number: 18\n"
     ]
    }
   ],
   "source": [
    "# how many images did we get?\n",
    "print('Total number:', landsat.size().getInfo())"
   ]
  },
  {
   "cell_type": "code",
   "execution_count": 6,
   "id": "0127db09-8f53-4939-b337-db4baab595fb",
   "metadata": {},
   "outputs": [
    {
     "data": {
      "text/plain": [
       "{'type': 'Image',\n",
       " 'bands': [{'id': 'B1',\n",
       "   'data_type': {'type': 'PixelType',\n",
       "    'precision': 'int',\n",
       "    'min': 0,\n",
       "    'max': 255},\n",
       "   'dimensions': [8071, 7071],\n",
       "   'crs': 'EPSG:32629',\n",
       "   'crs_transform': [30, 0, 556185, 0, -30, 4573515]},\n",
       "  {'id': 'B2',\n",
       "   'data_type': {'type': 'PixelType',\n",
       "    'precision': 'int',\n",
       "    'min': 0,\n",
       "    'max': 255},\n",
       "   'dimensions': [8071, 7071],\n",
       "   'crs': 'EPSG:32629',\n",
       "   'crs_transform': [30, 0, 556185, 0, -30, 4573515]},\n",
       "  {'id': 'B3',\n",
       "   'data_type': {'type': 'PixelType',\n",
       "    'precision': 'int',\n",
       "    'min': 0,\n",
       "    'max': 255},\n",
       "   'dimensions': [8071, 7071],\n",
       "   'crs': 'EPSG:32629',\n",
       "   'crs_transform': [30, 0, 556185, 0, -30, 4573515]},\n",
       "  {'id': 'B4',\n",
       "   'data_type': {'type': 'PixelType',\n",
       "    'precision': 'int',\n",
       "    'min': 0,\n",
       "    'max': 255},\n",
       "   'dimensions': [8071, 7071],\n",
       "   'crs': 'EPSG:32629',\n",
       "   'crs_transform': [30, 0, 556185, 0, -30, 4573515]},\n",
       "  {'id': 'B5',\n",
       "   'data_type': {'type': 'PixelType',\n",
       "    'precision': 'int',\n",
       "    'min': 0,\n",
       "    'max': 255},\n",
       "   'dimensions': [8071, 7071],\n",
       "   'crs': 'EPSG:32629',\n",
       "   'crs_transform': [30, 0, 556185, 0, -30, 4573515]},\n",
       "  {'id': 'B6_VCID_1',\n",
       "   'data_type': {'type': 'PixelType',\n",
       "    'precision': 'int',\n",
       "    'min': 0,\n",
       "    'max': 255},\n",
       "   'dimensions': [8071, 7071],\n",
       "   'crs': 'EPSG:32629',\n",
       "   'crs_transform': [30, 0, 556185, 0, -30, 4573515]},\n",
       "  {'id': 'B6_VCID_2',\n",
       "   'data_type': {'type': 'PixelType',\n",
       "    'precision': 'int',\n",
       "    'min': 0,\n",
       "    'max': 255},\n",
       "   'dimensions': [8071, 7071],\n",
       "   'crs': 'EPSG:32629',\n",
       "   'crs_transform': [30, 0, 556185, 0, -30, 4573515]},\n",
       "  {'id': 'B7',\n",
       "   'data_type': {'type': 'PixelType',\n",
       "    'precision': 'int',\n",
       "    'min': 0,\n",
       "    'max': 255},\n",
       "   'dimensions': [8071, 7071],\n",
       "   'crs': 'EPSG:32629',\n",
       "   'crs_transform': [30, 0, 556185, 0, -30, 4573515]},\n",
       "  {'id': 'B8',\n",
       "   'data_type': {'type': 'PixelType',\n",
       "    'precision': 'int',\n",
       "    'min': 0,\n",
       "    'max': 255},\n",
       "   'dimensions': [16141, 14141],\n",
       "   'crs': 'EPSG:32629',\n",
       "   'crs_transform': [15, 0, 556192.5, 0, -15, 4573507.5]},\n",
       "  {'id': 'QA_PIXEL',\n",
       "   'data_type': {'type': 'PixelType',\n",
       "    'precision': 'int',\n",
       "    'min': 0,\n",
       "    'max': 65535},\n",
       "   'dimensions': [8071, 7071],\n",
       "   'crs': 'EPSG:32629',\n",
       "   'crs_transform': [30, 0, 556185, 0, -30, 4573515]},\n",
       "  {'id': 'QA_RADSAT',\n",
       "   'data_type': {'type': 'PixelType',\n",
       "    'precision': 'int',\n",
       "    'min': 0,\n",
       "    'max': 65535},\n",
       "   'dimensions': [8071, 7071],\n",
       "   'crs': 'EPSG:32629',\n",
       "   'crs_transform': [30, 0, 556185, 0, -30, 4573515]},\n",
       "  {'id': 'SAA',\n",
       "   'data_type': {'type': 'PixelType',\n",
       "    'precision': 'int',\n",
       "    'min': -32768,\n",
       "    'max': 32767},\n",
       "   'dimensions': [8071, 7071],\n",
       "   'crs': 'EPSG:32629',\n",
       "   'crs_transform': [30, 0, 556185, 0, -30, 4573515]},\n",
       "  {'id': 'SZA',\n",
       "   'data_type': {'type': 'PixelType',\n",
       "    'precision': 'int',\n",
       "    'min': -32768,\n",
       "    'max': 32767},\n",
       "   'dimensions': [8071, 7071],\n",
       "   'crs': 'EPSG:32629',\n",
       "   'crs_transform': [30, 0, 556185, 0, -30, 4573515]},\n",
       "  {'id': 'VAA',\n",
       "   'data_type': {'type': 'PixelType',\n",
       "    'precision': 'int',\n",
       "    'min': -32768,\n",
       "    'max': 32767},\n",
       "   'dimensions': [8071, 7071],\n",
       "   'crs': 'EPSG:32629',\n",
       "   'crs_transform': [30, 0, 556185, 0, -30, 4573515]},\n",
       "  {'id': 'VZA',\n",
       "   'data_type': {'type': 'PixelType',\n",
       "    'precision': 'int',\n",
       "    'min': -32768,\n",
       "    'max': 32767},\n",
       "   'dimensions': [8071, 7071],\n",
       "   'crs': 'EPSG:32629',\n",
       "   'crs_transform': [30, 0, 556185, 0, -30, 4573515]}],\n",
       " 'version': 1641003393924845,\n",
       " 'id': 'LANDSAT/LE07/C02/T1/LE07_203032_20170123',\n",
       " 'properties': {'RADIANCE_MULT_BAND_5': 0.19122,\n",
       "  'IMAGE_QUALITY': 9,\n",
       "  'RADIANCE_MULT_BAND_3': 0.94252,\n",
       "  'RADIANCE_MULT_BAND_4': 0.96929,\n",
       "  'RADIANCE_MULT_BAND_1': 1.1807,\n",
       "  'RADIANCE_MULT_BAND_2': 1.2098,\n",
       "  'WRS_TYPE': 2,\n",
       "  'CORRECTION_GAIN_BAND_6_VCID_2': 'CPF',\n",
       "  'CORRECTION_GAIN_BAND_6_VCID_1': 'CPF',\n",
       "  'CORRECTION_GAIN_BAND_2': 'CPF',\n",
       "  'CORRECTION_GAIN_BAND_1': 'CPF',\n",
       "  'system:footprint': {'type': 'LinearRing',\n",
       "   'coordinates': [[-8.33994816652506, 39.7069675394128],\n",
       "    [-8.338877912232762, 39.7026698486466],\n",
       "    [-6.07969330718268, 39.37938800310813],\n",
       "    [-6.003826774294708, 39.36794300266717],\n",
       "    [-5.986141721708168, 39.366935436257954],\n",
       "    [-5.94051565746248, 39.50486176450539],\n",
       "    [-5.847171712728384, 39.78611123463221],\n",
       "    [-5.784868021492613, 39.97274606289594],\n",
       "    [-5.62246260286415, 40.45786998724214],\n",
       "    [-5.457470680436911, 40.942640820942835],\n",
       "    [-5.455847342288511, 40.95176898564981],\n",
       "    [-5.463273211252031, 40.96068457796396],\n",
       "    [-5.5430809418071, 40.97407579267894],\n",
       "    [-7.857869684487659, 41.305660806185855],\n",
       "    [-7.862869078315593, 41.29658303887052],\n",
       "    [-7.918630400901866, 41.118279094542736],\n",
       "    [-8.108785413340762, 40.48995060768332],\n",
       "    [-8.2953240715483, 39.86121035127159],\n",
       "    [-8.332866856315867, 39.73290365639603],\n",
       "    [-8.33994816652506, 39.7069675394128]]},\n",
       "  'REFLECTIVE_SAMPLES': 8071,\n",
       "  'CORRECTION_GAIN_BAND_8': 'CPF',\n",
       "  'CORRECTION_GAIN_BAND_7': 'CPF',\n",
       "  'CORRECTION_GAIN_BAND_5': 'CPF',\n",
       "  'SUN_AZIMUTH': 156.26387162,\n",
       "  'CORRECTION_GAIN_BAND_4': 'CPF',\n",
       "  'CORRECTION_GAIN_BAND_3': 'CPF',\n",
       "  'GAIN_CHANGE_BAND_7': 'LL',\n",
       "  'GAIN_CHANGE_BAND_8': 'LL',\n",
       "  'GAIN_CHANGE_BAND_5': 'LL',\n",
       "  'DATE_ACQUIRED': '2017-01-23',\n",
       "  'GAIN_CHANGE_BAND_3': 'LL',\n",
       "  'ELLIPSOID': 'WGS84',\n",
       "  'GAIN_CHANGE_BAND_4': 'LL',\n",
       "  'GAIN_CHANGE_BAND_1': 'LL',\n",
       "  'GAIN_CHANGE_BAND_2': 'LL',\n",
       "  'RADIANCE_ADD_BAND_6_VCID_1': -0.06709,\n",
       "  'RADIANCE_ADD_BAND_6_VCID_2': 3.1628,\n",
       "  'SENSOR_MODE': 'BUMPER',\n",
       "  'STATION_ID': 'NSG',\n",
       "  'RESAMPLING_OPTION': 'CUBIC_CONVOLUTION',\n",
       "  'ORIENTATION': 'NORTH_UP',\n",
       "  'WRS_ROW': 32,\n",
       "  'GAIN_BAND_6_VCID_2': 'H',\n",
       "  'RADIANCE_MULT_BAND_7': 0.066496,\n",
       "  'GAIN_BAND_6_VCID_1': 'L',\n",
       "  'RADIANCE_MULT_BAND_8': 0.97559,\n",
       "  'CLOUD_COVER': 6,\n",
       "  'COLLECTION_CATEGORY': 'T1',\n",
       "  'GRID_CELL_SIZE_REFLECTIVE': 30,\n",
       "  'RADIANCE_MULT_BAND_6_VCID_1': 0.067087,\n",
       "  'CLOUD_COVER_LAND': 6,\n",
       "  'RADIANCE_MULT_BAND_6_VCID_2': 0.037205,\n",
       "  'GEOMETRIC_RMSE_MODEL': 4.842,\n",
       "  'COLLECTION_NUMBER': 2,\n",
       "  'LANDSAT_SCENE_ID': 'LE72030322017023NSG00',\n",
       "  'WRS_PATH': 203,\n",
       "  'PANCHROMATIC_SAMPLES': 16141,\n",
       "  'PANCHROMATIC_LINES': 14141,\n",
       "  'GEOMETRIC_RMSE_MODEL_Y': 3.496,\n",
       "  'REFLECTIVE_LINES': 7071,\n",
       "  'GEOMETRIC_RMSE_MODEL_X': 3.35,\n",
       "  'system:asset_size': 300676884,\n",
       "  'system:index': 'LE07_203032_20170123',\n",
       "  'DATA_SOURCE_ELEVATION': 'GLS2000',\n",
       "  'SENSOR_ANOMALIES': 'NONE',\n",
       "  'GAIN_BAND_4': 'L',\n",
       "  'REFLECTANCE_ADD_BAND_1': -0.011034,\n",
       "  'GAIN_BAND_5': 'L',\n",
       "  'REFLECTANCE_ADD_BAND_2': -0.01248,\n",
       "  'DATUM': 'WGS84',\n",
       "  'GAIN_BAND_2': 'L',\n",
       "  'REFLECTANCE_ADD_BAND_3': -0.011861,\n",
       "  'GAIN_BAND_3': 'L',\n",
       "  'REFLECTANCE_ADD_BAND_4': -0.017249,\n",
       "  'GAIN_BAND_8': 'L',\n",
       "  'REFLECTANCE_ADD_BAND_5': -0.016362,\n",
       "  'REFLECTANCE_ADD_BAND_7': -0.015582,\n",
       "  'GAIN_BAND_7': 'L',\n",
       "  'REFLECTANCE_ADD_BAND_8': -0.013097,\n",
       "  'GROUND_CONTROL_POINTS_VERSION': 5,\n",
       "  'GAIN_BAND_1': 'L',\n",
       "  'K2_CONSTANT_BAND_6_VCID_2': 1282.71,\n",
       "  'K2_CONSTANT_BAND_6_VCID_1': 1282.71,\n",
       "  'CORRECTION_BIAS_BAND_2': 'INTERNAL_CALIBRATION',\n",
       "  'CORRECTION_BIAS_BAND_1': 'INTERNAL_CALIBRATION',\n",
       "  'CORRECTION_BIAS_BAND_4': 'INTERNAL_CALIBRATION',\n",
       "  'CORRECTION_BIAS_BAND_3': 'INTERNAL_CALIBRATION',\n",
       "  'GAIN_CHANGE_SCAN_BAND_6_VCID_1': 0,\n",
       "  'UTM_ZONE': 29,\n",
       "  'GAIN_CHANGE_SCAN_BAND_6_VCID_2': 0,\n",
       "  'system:time_end': 1485169799181,\n",
       "  'LANDSAT_PRODUCT_ID': 'LE07_L1TP_203032_20170123_20201008_02_T1',\n",
       "  'GRID_CELL_SIZE_PANCHROMATIC': 15,\n",
       "  'RADIANCE_ADD_BAND_4': -6.06929,\n",
       "  'REFLECTANCE_MULT_BAND_7': 0.0024877,\n",
       "  'system:time_start': 1485169799181,\n",
       "  'RADIANCE_ADD_BAND_5': -1.19122,\n",
       "  'PROCESSING_SOFTWARE_VERSION': 'LPGS_15.3.1c',\n",
       "  'RADIANCE_ADD_BAND_7': -0.4165,\n",
       "  'REFLECTANCE_MULT_BAND_8': 0.0022513,\n",
       "  'EPHEMERIS_TYPE': 'DEFINITIVE',\n",
       "  'RADIANCE_ADD_BAND_1': -7.38071,\n",
       "  'RADIANCE_ADD_BAND_2': -7.60984,\n",
       "  'RADIANCE_ADD_BAND_3': -5.94252,\n",
       "  'K1_CONSTANT_BAND_6_VCID_2': 666.09,\n",
       "  'CORRECTION_BIAS_BAND_6_VCID_2': 'INTERNAL_CALIBRATION',\n",
       "  'REFLECTANCE_MULT_BAND_1': 0.0017651,\n",
       "  'CORRECTION_BIAS_BAND_6_VCID_1': 'INTERNAL_CALIBRATION',\n",
       "  'RADIANCE_ADD_BAND_8': -5.67559,\n",
       "  'REFLECTANCE_MULT_BAND_3': 0.0018812,\n",
       "  'CORRECTION_BIAS_BAND_5': 'INTERNAL_CALIBRATION',\n",
       "  'REFLECTANCE_MULT_BAND_2': 0.0019841,\n",
       "  'CORRECTION_BIAS_BAND_8': 'INTERNAL_CALIBRATION',\n",
       "  'REFLECTANCE_MULT_BAND_5': 0.0026265,\n",
       "  'CORRECTION_BIAS_BAND_7': 'INTERNAL_CALIBRATION',\n",
       "  'K1_CONSTANT_BAND_6_VCID_1': 666.09,\n",
       "  'REFLECTANCE_MULT_BAND_4': 0.0027547,\n",
       "  'THERMAL_LINES': 7071,\n",
       "  'GAIN_CHANGE_SCAN_BAND_1': 0,\n",
       "  'GRID_CELL_SIZE_THERMAL': 30,\n",
       "  'GAIN_CHANGE_SCAN_BAND_2': 0,\n",
       "  'GAIN_CHANGE_SCAN_BAND_3': 0,\n",
       "  'GAIN_CHANGE_SCAN_BAND_4': 0,\n",
       "  'GAIN_CHANGE_SCAN_BAND_5': 0,\n",
       "  'REQUEST_ID': 'L2',\n",
       "  'EARTH_SUN_DISTANCE': 0.9843128,\n",
       "  'SCENE_CENTER_TIME': '11:09:59.1819858Z',\n",
       "  'SUN_ELEVATION': 26.79733871,\n",
       "  'SATURATION_BAND_6_VCID_1': 'N',\n",
       "  'SATURATION_BAND_6_VCID_2': 'N',\n",
       "  'SCAN_GAP_INTERPOLATION': 2,\n",
       "  'DATE_PRODUCT_GENERATED': 1602179932000,\n",
       "  'SATURATION_BAND_1': 'Y',\n",
       "  'SENSOR_MODE_SLC': 'OFF',\n",
       "  'SATURATION_BAND_2': 'Y',\n",
       "  'SATURATION_BAND_3': 'Y',\n",
       "  'SATURATION_BAND_4': 'Y',\n",
       "  'SATURATION_BAND_5': 'Y',\n",
       "  'MAP_PROJECTION': 'UTM',\n",
       "  'SENSOR_ID': 'ETM',\n",
       "  'SATURATION_BAND_7': 'Y',\n",
       "  'SATURATION_BAND_8': 'N',\n",
       "  'PROCESSING_LEVEL': 'L1TP',\n",
       "  'GROUND_CONTROL_POINTS_MODEL': 467,\n",
       "  'SPACECRAFT_ID': 'LANDSAT_7',\n",
       "  'GAIN_CHANGE_SCAN_BAND_7': 0,\n",
       "  'GAIN_CHANGE_SCAN_BAND_8': 0,\n",
       "  'GAIN_CHANGE_BAND_6_VCID_1': 'LL',\n",
       "  'GAIN_CHANGE_BAND_6_VCID_2': 'HH',\n",
       "  'THERMAL_SAMPLES': 8071}}"
      ]
     },
     "execution_count": 6,
     "metadata": {},
     "output_type": "execute_result"
    }
   ],
   "source": [
    "# information about the first image in our collection\n",
    "landsat.first().getInfo()"
   ]
  },
  {
   "cell_type": "code",
   "execution_count": 7,
   "id": "8bb700cf-6403-4fdc-9565-1be547cc2a7e",
   "metadata": {},
   "outputs": [
    {
     "data": {
      "text/plain": [
       "6"
      ]
     },
     "execution_count": 7,
     "metadata": {},
     "output_type": "execute_result"
    }
   ],
   "source": [
    "# what about cloud cover of our first image?\n",
    "landsat.first().get('CLOUD_COVER').getInfo()"
   ]
  },
  {
   "cell_type": "code",
   "execution_count": 8,
   "id": "7e8f07e0-7271-49ab-ade8-bbd5e915f72b",
   "metadata": {},
   "outputs": [
    {
     "data": {
      "text/plain": [
       "'2017-01-23'"
      ]
     },
     "execution_count": 8,
     "metadata": {},
     "output_type": "execute_result"
    }
   ],
   "source": [
    "# when was this image taken?\n",
    "landsat.first().get('DATE_ACQUIRED').getInfo()"
   ]
  },
  {
   "cell_type": "code",
   "execution_count": 9,
   "id": "061a3f26-d93d-4100-8dfb-1fc9d012aba6",
   "metadata": {},
   "outputs": [
    {
     "data": {
      "text/plain": [
       "['B1',\n",
       " 'B2',\n",
       " 'B3',\n",
       " 'B4',\n",
       " 'B5',\n",
       " 'B6_VCID_1',\n",
       " 'B6_VCID_2',\n",
       " 'B7',\n",
       " 'B8',\n",
       " 'QA_PIXEL',\n",
       " 'QA_RADSAT',\n",
       " 'SAA',\n",
       " 'SZA',\n",
       " 'VAA',\n",
       " 'VZA']"
      ]
     },
     "execution_count": 9,
     "metadata": {},
     "output_type": "execute_result"
    }
   ],
   "source": [
    "# what bands did we get?\n",
    "landsat.first().bandNames().getInfo()"
   ]
  },
  {
   "cell_type": "code",
   "execution_count": 10,
   "id": "032ec0dd-4b68-4abb-b291-44f11b10d0a4",
   "metadata": {},
   "outputs": [],
   "source": [
    "# put the images in a list\n",
    "landsat_list = landsat.toList(landsat.size());"
   ]
  },
  {
   "cell_type": "code",
   "execution_count": 11,
   "id": "6472d57f-3bf4-4478-8294-ab17ce405918",
   "metadata": {},
   "outputs": [],
   "source": [
    "# set some parameters for the images\n",
    "parameters = {\n",
    "                'min': 30,\n",
    "                'max': 100,\n",
    "                'dimensions': 800, # square size in pixels\n",
    "                'bands': ['B3', 'B2', 'B1'] # bands to display (r,g,b)\n",
    "             }"
   ]
  },
  {
   "cell_type": "code",
   "execution_count": 12,
   "id": "62c05dc8-c250-4100-908b-216e95a23f60",
   "metadata": {},
   "outputs": [
    {
     "name": "stdout",
     "output_type": "stream",
     "text": [
      "Image # 0 2017-01-23 Cloud cover: 6\n"
     ]
    },
    {
     "data": {
      "text/html": [
       "<img src=\"https://earthengine.googleapis.com/v1/projects/earthengine-legacy/thumbnails/6c327915b1757c5759061075dbedad35-d1659f0cbcdfb087acf2e07f0b2c10de:getPixels\"/>"
      ],
      "text/plain": [
       "<IPython.core.display.Image object>"
      ]
     },
     "metadata": {},
     "output_type": "display_data"
    },
    {
     "name": "stdout",
     "output_type": "stream",
     "text": [
      "Image # 1 2017-02-24 Cloud cover: 48\n"
     ]
    },
    {
     "data": {
      "text/html": [
       "<img src=\"https://earthengine.googleapis.com/v1/projects/earthengine-legacy/thumbnails/2209967842e966f32e2321553c81c545-bc72c6691ce954c558c0447881a58d9f:getPixels\"/>"
      ],
      "text/plain": [
       "<IPython.core.display.Image object>"
      ]
     },
     "metadata": {},
     "output_type": "display_data"
    },
    {
     "name": "stdout",
     "output_type": "stream",
     "text": [
      "Image # 2 2017-03-12 Cloud cover: 41\n"
     ]
    },
    {
     "data": {
      "text/html": [
       "<img src=\"https://earthengine.googleapis.com/v1/projects/earthengine-legacy/thumbnails/cb52609a694bbb1f6807a72ee6581f39-ed9dc67382cd8c502e1a3f6df11e7c5f:getPixels\"/>"
      ],
      "text/plain": [
       "<IPython.core.display.Image object>"
      ]
     },
     "metadata": {},
     "output_type": "display_data"
    },
    {
     "name": "stdout",
     "output_type": "stream",
     "text": [
      "Image # 3 2017-03-28 Cloud cover: 22\n"
     ]
    },
    {
     "data": {
      "text/html": [
       "<img src=\"https://earthengine.googleapis.com/v1/projects/earthengine-legacy/thumbnails/36091502aa967fe068e10e0cd88224ea-5d5caaec084f16c0d2fcdfb042d02250:getPixels\"/>"
      ],
      "text/plain": [
       "<IPython.core.display.Image object>"
      ]
     },
     "metadata": {},
     "output_type": "display_data"
    },
    {
     "name": "stdout",
     "output_type": "stream",
     "text": [
      "Image # 4 2017-04-13 Cloud cover: 17\n"
     ]
    },
    {
     "data": {
      "text/html": [
       "<img src=\"https://earthengine.googleapis.com/v1/projects/earthengine-legacy/thumbnails/21873203a6fcd70e81dad8a48d79e24f-8bc4918c58b19d5a9b1b2027ed19947a:getPixels\"/>"
      ],
      "text/plain": [
       "<IPython.core.display.Image object>"
      ]
     },
     "metadata": {},
     "output_type": "display_data"
    },
    {
     "name": "stdout",
     "output_type": "stream",
     "text": [
      "Image # 5 2017-04-29 Cloud cover: 86\n"
     ]
    },
    {
     "data": {
      "text/html": [
       "<img src=\"https://earthengine.googleapis.com/v1/projects/earthengine-legacy/thumbnails/e01155acc944d88dda4ec05b2f6aada3-40028ee932a65c93e1fea98afbca4abe:getPixels\"/>"
      ],
      "text/plain": [
       "<IPython.core.display.Image object>"
      ]
     },
     "metadata": {},
     "output_type": "display_data"
    },
    {
     "name": "stdout",
     "output_type": "stream",
     "text": [
      "Image # 6 2017-05-15 Cloud cover: 53\n"
     ]
    },
    {
     "data": {
      "text/html": [
       "<img src=\"https://earthengine.googleapis.com/v1/projects/earthengine-legacy/thumbnails/e80cbeaa67dc044ccf500c647b064130-2de449448d2747a07eed01740d9cc629:getPixels\"/>"
      ],
      "text/plain": [
       "<IPython.core.display.Image object>"
      ]
     },
     "metadata": {},
     "output_type": "display_data"
    },
    {
     "name": "stdout",
     "output_type": "stream",
     "text": [
      "Image # 7 2017-05-31 Cloud cover: 10\n"
     ]
    },
    {
     "data": {
      "text/html": [
       "<img src=\"https://earthengine.googleapis.com/v1/projects/earthengine-legacy/thumbnails/c12dd3b6108a4e94750370bab07df6bc-e87d6615e518a5e15b567259cee8d697:getPixels\"/>"
      ],
      "text/plain": [
       "<IPython.core.display.Image object>"
      ]
     },
     "metadata": {},
     "output_type": "display_data"
    },
    {
     "name": "stdout",
     "output_type": "stream",
     "text": [
      "Image # 8 2017-06-16 Cloud cover: 0\n"
     ]
    },
    {
     "data": {
      "text/html": [
       "<img src=\"https://earthengine.googleapis.com/v1/projects/earthengine-legacy/thumbnails/4c6176d708ec7713e3b3f6d256d31220-2bde56d30b43efa1dc0923b986b2fadd:getPixels\"/>"
      ],
      "text/plain": [
       "<IPython.core.display.Image object>"
      ]
     },
     "metadata": {},
     "output_type": "display_data"
    },
    {
     "name": "stdout",
     "output_type": "stream",
     "text": [
      "Image # 9 2017-01-14 Cloud cover: 0\n"
     ]
    },
    {
     "data": {
      "text/html": [
       "<img src=\"https://earthengine.googleapis.com/v1/projects/earthengine-legacy/thumbnails/8742470ce8569c9a66f39ebc8e394b2c-8081a3b52a3b8fa6afbd5b2860d11cff:getPixels\"/>"
      ],
      "text/plain": [
       "<IPython.core.display.Image object>"
      ]
     },
     "metadata": {},
     "output_type": "display_data"
    },
    {
     "name": "stdout",
     "output_type": "stream",
     "text": [
      "Image # 10 2017-02-15 Cloud cover: 93\n"
     ]
    },
    {
     "data": {
      "text/html": [
       "<img src=\"https://earthengine.googleapis.com/v1/projects/earthengine-legacy/thumbnails/19a1803e3a9aa550f7cfc1e0bd11636d-032aac24ad0bd1a2770d68a598d1db50:getPixels\"/>"
      ],
      "text/plain": [
       "<IPython.core.display.Image object>"
      ]
     },
     "metadata": {},
     "output_type": "display_data"
    },
    {
     "name": "stdout",
     "output_type": "stream",
     "text": [
      "Image # 11 2017-03-19 Cloud cover: 51\n"
     ]
    },
    {
     "data": {
      "text/html": [
       "<img src=\"https://earthengine.googleapis.com/v1/projects/earthengine-legacy/thumbnails/ebe4e507ccb0522c88ef74e029714e0b-8629b6046234e2c6f3a986a47539c97d:getPixels\"/>"
      ],
      "text/plain": [
       "<IPython.core.display.Image object>"
      ]
     },
     "metadata": {},
     "output_type": "display_data"
    },
    {
     "name": "stdout",
     "output_type": "stream",
     "text": [
      "Image # 12 2017-04-04 Cloud cover: 0\n"
     ]
    },
    {
     "data": {
      "text/html": [
       "<img src=\"https://earthengine.googleapis.com/v1/projects/earthengine-legacy/thumbnails/9ee855577b5375735dfac7d93e84565a-99400f46f2e15552d06c347586e0a4f6:getPixels\"/>"
      ],
      "text/plain": [
       "<IPython.core.display.Image object>"
      ]
     },
     "metadata": {},
     "output_type": "display_data"
    },
    {
     "name": "stdout",
     "output_type": "stream",
     "text": [
      "Image # 13 2017-04-20 Cloud cover: 82\n"
     ]
    },
    {
     "data": {
      "text/html": [
       "<img src=\"https://earthengine.googleapis.com/v1/projects/earthengine-legacy/thumbnails/143efe1159382cc0d8491bd025943f48-c76bdcccb50793ae0256a4942ca1730d:getPixels\"/>"
      ],
      "text/plain": [
       "<IPython.core.display.Image object>"
      ]
     },
     "metadata": {},
     "output_type": "display_data"
    },
    {
     "name": "stdout",
     "output_type": "stream",
     "text": [
      "Image # 14 2017-05-06 Cloud cover: 56\n"
     ]
    },
    {
     "data": {
      "text/html": [
       "<img src=\"https://earthengine.googleapis.com/v1/projects/earthengine-legacy/thumbnails/d30d6d8e24359b85e9d936741852106b-bcedd4bd6c9adcb8f56ff28a592ff05d:getPixels\"/>"
      ],
      "text/plain": [
       "<IPython.core.display.Image object>"
      ]
     },
     "metadata": {},
     "output_type": "display_data"
    },
    {
     "name": "stdout",
     "output_type": "stream",
     "text": [
      "Image # 15 2017-05-22 Cloud cover: 16\n"
     ]
    },
    {
     "data": {
      "text/html": [
       "<img src=\"https://earthengine.googleapis.com/v1/projects/earthengine-legacy/thumbnails/0153581a6770ed3b7f9f8b0a6530a406-8cb58c1b023299b5f976925a3c9a5dcd:getPixels\"/>"
      ],
      "text/plain": [
       "<IPython.core.display.Image object>"
      ]
     },
     "metadata": {},
     "output_type": "display_data"
    },
    {
     "name": "stdout",
     "output_type": "stream",
     "text": [
      "Image # 16 2017-06-07 Cloud cover: 0\n"
     ]
    },
    {
     "data": {
      "text/html": [
       "<img src=\"https://earthengine.googleapis.com/v1/projects/earthengine-legacy/thumbnails/821f8362992c07a1409a4cdbcf6d65ad-3574a64eb1e01ae2107e110bc96b9d6b:getPixels\"/>"
      ],
      "text/plain": [
       "<IPython.core.display.Image object>"
      ]
     },
     "metadata": {},
     "output_type": "display_data"
    },
    {
     "name": "stdout",
     "output_type": "stream",
     "text": [
      "Image # 17 2017-06-23 Cloud cover: 0\n"
     ]
    },
    {
     "data": {
      "text/html": [
       "<img src=\"https://earthengine.googleapis.com/v1/projects/earthengine-legacy/thumbnails/e8fe1cb68b895f9a211106fb8a151024-ac3f421ab759c69fc8edbefc0a0c597b:getPixels\"/>"
      ],
      "text/plain": [
       "<IPython.core.display.Image object>"
      ]
     },
     "metadata": {},
     "output_type": "display_data"
    }
   ],
   "source": [
    "# create an empty data container\n",
    "data = []\n",
    "\n",
    "# loop through each image and display it\n",
    "for i in range(landsat.size().getInfo()):\n",
    "\n",
    "    # when was this image taken?\n",
    "    date = ee.Image(landsat_list.get(i)).get('DATE_ACQUIRED').getInfo()\n",
    "    \n",
    "    # cloud cover\n",
    "    cloud = ee.Image(landsat_list.get(i)).get('CLOUD_COVER').getInfo()\n",
    "    \n",
    "    # print the image info\n",
    "    print('Image #',i,date,'Cloud cover:',cloud)\n",
    "    \n",
    "    # display the image\n",
    "    display(Image(url = ee.Image(landsat_list.get(i)).getThumbUrl(parameters)))\n",
    "\n",
    "    # data to list\n",
    "    this_data = [i,date,cloud]\n",
    "\n",
    "    # append the data \n",
    "    data.append(this_data)\n",
    "    \n",
    "\n",
    "# Create the pandas DataFrame\n",
    "df = pd.DataFrame(data, columns = ['Image #', 'Date', 'Cloud Cover'])"
   ]
  },
  {
   "cell_type": "code",
   "execution_count": 17,
   "id": "75be53ec-192f-41c8-8abb-f0588051df9f",
   "metadata": {},
   "outputs": [
    {
     "data": {
      "text/html": [
       "<div>\n",
       "<style scoped>\n",
       "    .dataframe tbody tr th:only-of-type {\n",
       "        vertical-align: middle;\n",
       "    }\n",
       "\n",
       "    .dataframe tbody tr th {\n",
       "        vertical-align: top;\n",
       "    }\n",
       "\n",
       "    .dataframe thead th {\n",
       "        text-align: right;\n",
       "    }\n",
       "</style>\n",
       "<table border=\"1\" class=\"dataframe\">\n",
       "  <thead>\n",
       "    <tr style=\"text-align: right;\">\n",
       "      <th></th>\n",
       "      <th>Image #</th>\n",
       "      <th>Date</th>\n",
       "      <th>Cloud Cover</th>\n",
       "    </tr>\n",
       "  </thead>\n",
       "  <tbody>\n",
       "    <tr>\n",
       "      <th>0</th>\n",
       "      <td>0</td>\n",
       "      <td>2017-01-23</td>\n",
       "      <td>6</td>\n",
       "    </tr>\n",
       "    <tr>\n",
       "      <th>1</th>\n",
       "      <td>1</td>\n",
       "      <td>2017-02-24</td>\n",
       "      <td>48</td>\n",
       "    </tr>\n",
       "    <tr>\n",
       "      <th>2</th>\n",
       "      <td>2</td>\n",
       "      <td>2017-03-12</td>\n",
       "      <td>41</td>\n",
       "    </tr>\n",
       "    <tr>\n",
       "      <th>3</th>\n",
       "      <td>3</td>\n",
       "      <td>2017-03-28</td>\n",
       "      <td>22</td>\n",
       "    </tr>\n",
       "    <tr>\n",
       "      <th>4</th>\n",
       "      <td>4</td>\n",
       "      <td>2017-04-13</td>\n",
       "      <td>17</td>\n",
       "    </tr>\n",
       "    <tr>\n",
       "      <th>5</th>\n",
       "      <td>5</td>\n",
       "      <td>2017-04-29</td>\n",
       "      <td>86</td>\n",
       "    </tr>\n",
       "    <tr>\n",
       "      <th>6</th>\n",
       "      <td>6</td>\n",
       "      <td>2017-05-15</td>\n",
       "      <td>53</td>\n",
       "    </tr>\n",
       "    <tr>\n",
       "      <th>7</th>\n",
       "      <td>7</td>\n",
       "      <td>2017-05-31</td>\n",
       "      <td>10</td>\n",
       "    </tr>\n",
       "    <tr>\n",
       "      <th>8</th>\n",
       "      <td>8</td>\n",
       "      <td>2017-06-16</td>\n",
       "      <td>0</td>\n",
       "    </tr>\n",
       "    <tr>\n",
       "      <th>9</th>\n",
       "      <td>9</td>\n",
       "      <td>2017-01-14</td>\n",
       "      <td>0</td>\n",
       "    </tr>\n",
       "    <tr>\n",
       "      <th>10</th>\n",
       "      <td>10</td>\n",
       "      <td>2017-02-15</td>\n",
       "      <td>93</td>\n",
       "    </tr>\n",
       "    <tr>\n",
       "      <th>11</th>\n",
       "      <td>11</td>\n",
       "      <td>2017-03-19</td>\n",
       "      <td>51</td>\n",
       "    </tr>\n",
       "    <tr>\n",
       "      <th>12</th>\n",
       "      <td>12</td>\n",
       "      <td>2017-04-04</td>\n",
       "      <td>0</td>\n",
       "    </tr>\n",
       "    <tr>\n",
       "      <th>13</th>\n",
       "      <td>13</td>\n",
       "      <td>2017-04-20</td>\n",
       "      <td>82</td>\n",
       "    </tr>\n",
       "    <tr>\n",
       "      <th>14</th>\n",
       "      <td>14</td>\n",
       "      <td>2017-05-06</td>\n",
       "      <td>56</td>\n",
       "    </tr>\n",
       "    <tr>\n",
       "      <th>15</th>\n",
       "      <td>15</td>\n",
       "      <td>2017-05-22</td>\n",
       "      <td>16</td>\n",
       "    </tr>\n",
       "    <tr>\n",
       "      <th>16</th>\n",
       "      <td>16</td>\n",
       "      <td>2017-06-07</td>\n",
       "      <td>0</td>\n",
       "    </tr>\n",
       "    <tr>\n",
       "      <th>17</th>\n",
       "      <td>17</td>\n",
       "      <td>2017-06-23</td>\n",
       "      <td>0</td>\n",
       "    </tr>\n",
       "  </tbody>\n",
       "</table>\n",
       "</div>"
      ],
      "text/plain": [
       "    Image #        Date  Cloud Cover\n",
       "0         0  2017-01-23            6\n",
       "1         1  2017-02-24           48\n",
       "2         2  2017-03-12           41\n",
       "3         3  2017-03-28           22\n",
       "4         4  2017-04-13           17\n",
       "5         5  2017-04-29           86\n",
       "6         6  2017-05-15           53\n",
       "7         7  2017-05-31           10\n",
       "8         8  2017-06-16            0\n",
       "9         9  2017-01-14            0\n",
       "10       10  2017-02-15           93\n",
       "11       11  2017-03-19           51\n",
       "12       12  2017-04-04            0\n",
       "13       13  2017-04-20           82\n",
       "14       14  2017-05-06           56\n",
       "15       15  2017-05-22           16\n",
       "16       16  2017-06-07            0\n",
       "17       17  2017-06-23            0"
      ]
     },
     "execution_count": 17,
     "metadata": {},
     "output_type": "execute_result"
    }
   ],
   "source": [
    "df"
   ]
  },
  {
   "cell_type": "code",
   "execution_count": 18,
   "id": "0b5d2e52-6396-4172-9d05-34d68076e07b",
   "metadata": {},
   "outputs": [],
   "source": [
    "# create a list of images we want (before, during, after)\n",
    "landsat_sequence = [12,17]"
   ]
  },
  {
   "cell_type": "code",
   "execution_count": 19,
   "id": "8cea2e6b-9a08-4ac8-8db7-d7792522716f",
   "metadata": {},
   "outputs": [],
   "source": [
    "# Define a region of interest with a buffer zone of 20 km\n",
    "roi = poi.buffer(20000) # meters"
   ]
  },
  {
   "cell_type": "code",
   "execution_count": 20,
   "id": "764e5e53-2baa-4bd3-a7de-3c61a3ebc7ac",
   "metadata": {},
   "outputs": [],
   "source": [
    "parameters = {\n",
    "                'min': 10,\n",
    "                'max': 150,\n",
    "                'dimensions': 800,\n",
    "                'bands': ['B3', 'B2', 'B1'],\n",
    "                'region':roi\n",
    "             }"
   ]
  },
  {
   "cell_type": "code",
   "execution_count": 39,
   "id": "b3d2d910-4b08-4318-b07c-44d093afb30e",
   "metadata": {},
   "outputs": [
    {
     "name": "stdout",
     "output_type": "stream",
     "text": [
      "Image # 12 2017-04-04 Cloud cover: 0\n"
     ]
    },
    {
     "data": {
      "text/html": [
       "<img src=\"https://earthengine.googleapis.com/v1/projects/earthengine-legacy/thumbnails/c5f58925db73b7e20b8cf8ad336d7811-2fe46e2fbd5f4f11770a3a4c2372247b:getPixels\"/>"
      ],
      "text/plain": [
       "<IPython.core.display.Image object>"
      ]
     },
     "metadata": {},
     "output_type": "display_data"
    },
    {
     "name": "stdout",
     "output_type": "stream",
     "text": [
      "Image # 17 2017-06-23 Cloud cover: 0\n"
     ]
    },
    {
     "data": {
      "text/html": [
       "<img src=\"https://earthengine.googleapis.com/v1/projects/earthengine-legacy/thumbnails/d7378b9dbac7cb72be1e5cf9e00b944b-ee3e33ffa8b22b1a258d3103f39ad967:getPixels\"/>"
      ],
      "text/plain": [
       "<IPython.core.display.Image object>"
      ]
     },
     "metadata": {},
     "output_type": "display_data"
    }
   ],
   "source": [
    "# specify the directory path where I want to save the images\n",
    "home_directory = os.path.expanduser('~')\n",
    "save_directory = os.path.join(home_directory, 'Documents', 'GitHub', 'Gee_pedrogao_fires')\n",
    "\n",
    "for i in landsat_sequence:\n",
    "    \n",
    "    # when was this image taken?\n",
    "    date = ee.Image(landsat_list.get(i)).get('DATE_ACQUIRED').getInfo()\n",
    "\n",
    "    # cloud cover\n",
    "    cloud = ee.Image(landsat_list.get(i)).get('CLOUD_COVER').getInfo()\n",
    "    \n",
    "    print('Image #',i,date,'Cloud cover:',cloud)\n",
    "\n",
    "    # get the thumbnail URL\n",
    "    thumbnail_url = ee.Image(landsat_list.get(i)).getThumbUrl(parameters)\n",
    "\n",
    "    # create a local file path to save the image\n",
    "    filename = os.path.join(save_directory, f\"Image_{i}_{date}.png\")\n",
    "\n",
    "    # download the image and save it locally\n",
    "    urllib.request.urlretrieve(thumbnail_url, filename)\n",
    "    \n",
    "    display(Image(url = ee.Image(landsat_list.get(i)).getThumbUrl(parameters)))"
   ]
  },
  {
   "cell_type": "code",
   "execution_count": 37,
   "id": "b16da4f1-a3dd-4c89-ad7d-98dd4dba3ccc",
   "metadata": {},
   "outputs": [],
   "source": [
    "# ndvi palette: red is low, green is high vegetation\n",
    "palette = ['red', 'yellow', 'green']\n",
    "\n",
    "ndvi_parameters = {'min': 0,\n",
    "                   'max': 0.4,\n",
    "                   'dimensions': 512,\n",
    "                   'palette': palette,\n",
    "                   'region': roi}"
   ]
  },
  {
   "cell_type": "code",
   "execution_count": 38,
   "id": "7fce9248-1b8d-479a-9b6d-24d1387c2387",
   "metadata": {},
   "outputs": [
    {
     "name": "stdout",
     "output_type": "stream",
     "text": [
      "Image # 12 2017-04-04\n"
     ]
    },
    {
     "data": {
      "text/html": [
       "<img src=\"https://earthengine.googleapis.com/v1/projects/earthengine-legacy/thumbnails/22d6d0c07e27600d928f2da88b6e99e2-177ac7ca72a2204c82cff6b169075dd0:getPixels\"/>"
      ],
      "text/plain": [
       "<IPython.core.display.Image object>"
      ]
     },
     "metadata": {},
     "output_type": "display_data"
    },
    {
     "name": "stdout",
     "output_type": "stream",
     "text": [
      "Image # 17 2017-06-23\n"
     ]
    },
    {
     "data": {
      "text/html": [
       "<img src=\"https://earthengine.googleapis.com/v1/projects/earthengine-legacy/thumbnails/498da19ceadae7c4bf5ad9796f7a9d36-14bffe6d470622eaf51536007db79d7d:getPixels\"/>"
      ],
      "text/plain": [
       "<IPython.core.display.Image object>"
      ]
     },
     "metadata": {},
     "output_type": "display_data"
    }
   ],
   "source": [
    "\n",
    "for i in landsat_sequence:\n",
    "\n",
    "    # when was this image taken?\n",
    "    date = ee.Image(landsat_list.get(i)).get('DATE_ACQUIRED').getInfo()\n",
    "    \n",
    "    # print some information\n",
    "    print('Image #',i,date)\n",
    "\n",
    "    # get the thumbnail URL\n",
    "    thumbnail_url = ee.Image(landsat_list.get(i)).normalizedDifference(['B4', 'B3']).getThumbUrl(ndvi_parameters)\n",
    "\n",
    "    # create a local file path to save the image\n",
    "    filename = os.path.join(save_directory, f\"Image_{i}_{date}.png\")\n",
    "\n",
    "    # download the image and save it locally\n",
    "    urllib.request.urlretrieve(thumbnail_url, filename)\n",
    "    \n",
    "    # display the image\n",
    "    display(Image(url=ee.Image(landsat_list.get(i)).normalizedDifference(['B4', 'B3']).getThumbUrl(ndvi_parameters)))"
   ]
  },
  {
   "cell_type": "code",
   "execution_count": 33,
   "id": "3fb9edfb-06d4-41ac-8b31-aae55f9fb562",
   "metadata": {},
   "outputs": [],
   "source": [
    "import folium\n",
    "\n",
    "# Google function that allows ee layers on folium\n",
    "def add_ee_layer(self, ee_image_object, vis_params, name):\n",
    "    \"\"\"Adds a method for displaying Earth Engine image tiles to folium map.\"\"\"\n",
    "    map_id_dict = ee.Image(ee_image_object).getMapId(vis_params)\n",
    "    folium.raster_layers.TileLayer(\n",
    "        tiles=map_id_dict['tile_fetcher'].url_format,\n",
    "        attr='Map Data &copy; <a href=\"https://earthengine.google.com/\">Google Earth Engine</a>',\n",
    "        name=name,\n",
    "        overlay=True,\n",
    "        control=True\n",
    "    ).add_to(self)\n",
    "\n",
    "# Add Earth Engine drawing method to folium\n",
    "folium.Map.add_ee_layer = add_ee_layer  "
   ]
  },
  {
   "cell_type": "code",
   "execution_count": 34,
   "id": "21126976-4289-4573-bd94-8c421164dd84",
   "metadata": {},
   "outputs": [
    {
     "data": {
      "text/html": [
       "<div style=\"width:100%;\"><div style=\"position:relative;width:100%;height:0;padding-bottom:60%;\"><span style=\"color:#565656\">Make this Notebook Trusted to load map: File -> Trust Notebook</span><iframe srcdoc=\"&lt;!DOCTYPE html&gt;\n",
       "&lt;html&gt;\n",
       "&lt;head&gt;\n",
       "    \n",
       "    &lt;meta http-equiv=&quot;content-type&quot; content=&quot;text/html; charset=UTF-8&quot; /&gt;\n",
       "    \n",
       "        &lt;script&gt;\n",
       "            L_NO_TOUCH = false;\n",
       "            L_DISABLE_3D = false;\n",
       "        &lt;/script&gt;\n",
       "    \n",
       "    &lt;style&gt;html, body {width: 100%;height: 100%;margin: 0;padding: 0;}&lt;/style&gt;\n",
       "    &lt;style&gt;#map {position:absolute;top:0;bottom:0;right:0;left:0;}&lt;/style&gt;\n",
       "    &lt;script src=&quot;https://cdn.jsdelivr.net/npm/leaflet@1.9.3/dist/leaflet.js&quot;&gt;&lt;/script&gt;\n",
       "    &lt;script src=&quot;https://code.jquery.com/jquery-3.7.1.min.js&quot;&gt;&lt;/script&gt;\n",
       "    &lt;script src=&quot;https://cdn.jsdelivr.net/npm/bootstrap@5.2.2/dist/js/bootstrap.bundle.min.js&quot;&gt;&lt;/script&gt;\n",
       "    &lt;script src=&quot;https://cdnjs.cloudflare.com/ajax/libs/Leaflet.awesome-markers/2.0.2/leaflet.awesome-markers.js&quot;&gt;&lt;/script&gt;\n",
       "    &lt;link rel=&quot;stylesheet&quot; href=&quot;https://cdn.jsdelivr.net/npm/leaflet@1.9.3/dist/leaflet.css&quot;/&gt;\n",
       "    &lt;link rel=&quot;stylesheet&quot; href=&quot;https://cdn.jsdelivr.net/npm/bootstrap@5.2.2/dist/css/bootstrap.min.css&quot;/&gt;\n",
       "    &lt;link rel=&quot;stylesheet&quot; href=&quot;https://netdna.bootstrapcdn.com/bootstrap/3.0.0/css/bootstrap.min.css&quot;/&gt;\n",
       "    &lt;link rel=&quot;stylesheet&quot; href=&quot;https://cdn.jsdelivr.net/npm/@fortawesome/fontawesome-free@6.2.0/css/all.min.css&quot;/&gt;\n",
       "    &lt;link rel=&quot;stylesheet&quot; href=&quot;https://cdnjs.cloudflare.com/ajax/libs/Leaflet.awesome-markers/2.0.2/leaflet.awesome-markers.css&quot;/&gt;\n",
       "    &lt;link rel=&quot;stylesheet&quot; href=&quot;https://cdn.jsdelivr.net/gh/python-visualization/folium/folium/templates/leaflet.awesome.rotate.min.css&quot;/&gt;\n",
       "    \n",
       "            &lt;meta name=&quot;viewport&quot; content=&quot;width=device-width,\n",
       "                initial-scale=1.0, maximum-scale=1.0, user-scalable=no&quot; /&gt;\n",
       "            &lt;style&gt;\n",
       "                #map_5186b1fb883ccbb17d3a9d5545c6e9e6 {\n",
       "                    position: relative;\n",
       "                    width: 100.0%;\n",
       "                    height: 100.0%;\n",
       "                    left: 0.0%;\n",
       "                    top: 0.0%;\n",
       "                }\n",
       "                .leaflet-container { font-size: 1rem; }\n",
       "            &lt;/style&gt;\n",
       "        \n",
       "&lt;/head&gt;\n",
       "&lt;body&gt;\n",
       "    \n",
       "    \n",
       "            &lt;div class=&quot;folium-map&quot; id=&quot;map_5186b1fb883ccbb17d3a9d5545c6e9e6&quot; &gt;&lt;/div&gt;\n",
       "        \n",
       "&lt;/body&gt;\n",
       "&lt;script&gt;\n",
       "    \n",
       "    \n",
       "            var map_5186b1fb883ccbb17d3a9d5545c6e9e6 = L.map(\n",
       "                &quot;map_5186b1fb883ccbb17d3a9d5545c6e9e6&quot;,\n",
       "                {\n",
       "                    center: [39.91694, -8.14778],\n",
       "                    crs: L.CRS.EPSG3857,\n",
       "                    zoom: 10,\n",
       "                    zoomControl: true,\n",
       "                    preferCanvas: false,\n",
       "                }\n",
       "            );\n",
       "\n",
       "            \n",
       "\n",
       "        \n",
       "    \n",
       "            var tile_layer_07921026ea4eb76990a24995396ac67d = L.tileLayer(\n",
       "                &quot;https://tile.openstreetmap.org/{z}/{x}/{y}.png&quot;,\n",
       "                {&quot;attribution&quot;: &quot;\\u0026copy; \\u003ca href=\\&quot;https://www.openstreetmap.org/copyright\\&quot;\\u003eOpenStreetMap\\u003c/a\\u003e contributors&quot;, &quot;detectRetina&quot;: false, &quot;maxNativeZoom&quot;: 19, &quot;maxZoom&quot;: 19, &quot;minZoom&quot;: 0, &quot;noWrap&quot;: false, &quot;opacity&quot;: 1, &quot;subdomains&quot;: &quot;abc&quot;, &quot;tms&quot;: false}\n",
       "            );\n",
       "        \n",
       "    \n",
       "            tile_layer_07921026ea4eb76990a24995396ac67d.addTo(map_5186b1fb883ccbb17d3a9d5545c6e9e6);\n",
       "        \n",
       "    \n",
       "            var tile_layer_11c142ecd736b2812f06bb9b2e330dca = L.tileLayer(\n",
       "                &quot;https://earthengine.googleapis.com/v1/projects/earthengine-legacy/maps/8d3d26d05c19bc91089be24bf7149f37-c0bb1969f7c873cf39d2f8f860ec28b7/tiles/{z}/{x}/{y}&quot;,\n",
       "                {&quot;attribution&quot;: &quot;Map Data \\u0026copy; \\u003ca href=\\&quot;https://earthengine.google.com/\\&quot;\\u003eGoogle Earth Engine\\u003c/a\\u003e&quot;, &quot;detectRetina&quot;: false, &quot;maxNativeZoom&quot;: 18, &quot;maxZoom&quot;: 18, &quot;minZoom&quot;: 0, &quot;noWrap&quot;: false, &quot;opacity&quot;: 1, &quot;subdomains&quot;: &quot;abc&quot;, &quot;tms&quot;: false}\n",
       "            );\n",
       "        \n",
       "    \n",
       "            tile_layer_11c142ecd736b2812f06bb9b2e330dca.addTo(map_5186b1fb883ccbb17d3a9d5545c6e9e6);\n",
       "        \n",
       "    \n",
       "            var tile_layer_2dce63727493907bf7efa7db63bc0aef = L.tileLayer(\n",
       "                &quot;https://earthengine.googleapis.com/v1/projects/earthengine-legacy/maps/956142042d6df757e0c2aaae83d6e608-3e35964f09ba2d3dbc463e7084da45dc/tiles/{z}/{x}/{y}&quot;,\n",
       "                {&quot;attribution&quot;: &quot;Map Data \\u0026copy; \\u003ca href=\\&quot;https://earthengine.google.com/\\&quot;\\u003eGoogle Earth Engine\\u003c/a\\u003e&quot;, &quot;detectRetina&quot;: false, &quot;maxNativeZoom&quot;: 18, &quot;maxZoom&quot;: 18, &quot;minZoom&quot;: 0, &quot;noWrap&quot;: false, &quot;opacity&quot;: 1, &quot;subdomains&quot;: &quot;abc&quot;, &quot;tms&quot;: false}\n",
       "            );\n",
       "        \n",
       "    \n",
       "            tile_layer_2dce63727493907bf7efa7db63bc0aef.addTo(map_5186b1fb883ccbb17d3a9d5545c6e9e6);\n",
       "        \n",
       "    \n",
       "            var layer_control_52ca68f237f9e3f947d29f873bbda04d_layers = {\n",
       "                base_layers : {\n",
       "                    &quot;openstreetmap&quot; : tile_layer_07921026ea4eb76990a24995396ac67d,\n",
       "                },\n",
       "                overlays :  {\n",
       "                    &quot;2017-04-04&quot; : tile_layer_11c142ecd736b2812f06bb9b2e330dca,\n",
       "                    &quot;2017-06-23&quot; : tile_layer_2dce63727493907bf7efa7db63bc0aef,\n",
       "                },\n",
       "            };\n",
       "            let layer_control_52ca68f237f9e3f947d29f873bbda04d = L.control.layers(\n",
       "                layer_control_52ca68f237f9e3f947d29f873bbda04d_layers.base_layers,\n",
       "                layer_control_52ca68f237f9e3f947d29f873bbda04d_layers.overlays,\n",
       "                {&quot;autoZIndex&quot;: true, &quot;collapsed&quot;: false, &quot;position&quot;: &quot;topright&quot;}\n",
       "            ).addTo(map_5186b1fb883ccbb17d3a9d5545c6e9e6);\n",
       "\n",
       "        \n",
       "&lt;/script&gt;\n",
       "&lt;/html&gt;\" style=\"position:absolute;width:100%;height:100%;left:0;top:0;border:none !important;\" allowfullscreen webkitallowfullscreen mozallowfullscreen></iframe></div></div>"
      ],
      "text/plain": [
       "<folium.folium.Map at 0x1289b8710>"
      ]
     },
     "metadata": {},
     "output_type": "display_data"
    }
   ],
   "source": [
    "# Create a map\n",
    "my_map = folium.Map(location=[lat, lon], zoom_start=10)\n",
    "\n",
    "# Add a layer for each satellite image of interest (before, during and after)\n",
    "for i in landsat_sequence:\n",
    "\n",
    "    # when was this image taken?\n",
    "    date = ee.Image(landsat_list.get(i)).get('DATE_ACQUIRED').getInfo()\n",
    "\n",
    "    my_map.add_ee_layer(ee.Image(landsat_list.get(i)).normalizedDifference(['B4', 'B3']), \n",
    "                        ndvi_parameters, \n",
    "                        name=date)\n",
    "    \n",
    "# Add a layer control panel to the map\n",
    "folium.LayerControl(collapsed = False).add_to(my_map)\n",
    "\n",
    "# Display the map.\n",
    "display(my_map)"
   ]
  },
  {
   "cell_type": "code",
   "execution_count": 35,
   "id": "6fd818d0-bed5-4765-a8d5-c89175a0ada0",
   "metadata": {},
   "outputs": [],
   "source": [
    "my_map.save('camp.html')"
   ]
  },
  {
   "cell_type": "code",
   "execution_count": null,
   "id": "e9fbbb20-1a5e-4718-a17e-1c92fdeedbb4",
   "metadata": {},
   "outputs": [],
   "source": []
  }
 ],
 "metadata": {
  "kernelspec": {
   "display_name": "Python 3 (ipykernel)",
   "language": "python",
   "name": "python3"
  },
  "language_info": {
   "codemirror_mode": {
    "name": "ipython",
    "version": 3
   },
   "file_extension": ".py",
   "mimetype": "text/x-python",
   "name": "python",
   "nbconvert_exporter": "python",
   "pygments_lexer": "ipython3",
   "version": "3.12.2"
  }
 },
 "nbformat": 4,
 "nbformat_minor": 5
}
